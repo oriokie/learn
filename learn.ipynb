{
 "cells": [
  {
   "cell_type": "code",
   "execution_count": 16,
   "metadata": {},
   "outputs": [
    {
     "name": "stdout",
     "output_type": "stream",
     "text": [
      "['Alex', 'Edwin', 'Harry', 'Orioki']\n"
     ]
    }
   ],
   "source": [
    "names = ['Harry', 'Edwin', 'Orioki']\n",
    "names.append('Alex')\n",
    "\n",
    "names.sort()\n",
    "\n",
    "print(names)\n"
   ]
  },
  {
   "cell_type": "code",
   "execution_count": 22,
   "metadata": {},
   "outputs": [
    {
     "name": "stdout",
     "output_type": "stream",
     "text": [
      "{1, 2, 3, 4}\n",
      "THe set has 4 number of items\n"
     ]
    }
   ],
   "source": [
    "#learning sets \n",
    "s = set()\n",
    "\n",
    "s.add(1)\n",
    "s.add(2)\n",
    "s.add(3)\n",
    "s.add(4)\n",
    "\n",
    "print(s)\n",
    "\n",
    "print(f\"THe set has {len(s)} number of items\")"
   ]
  },
  {
   "cell_type": "code",
   "execution_count": 24,
   "metadata": {},
   "outputs": [
    {
     "name": "stdout",
     "output_type": "stream",
     "text": [
      "1\n",
      "2\n",
      "3\n",
      "4\n",
      "5\n"
     ]
    }
   ],
   "source": [
    "#Learning Loops\n",
    "\n",
    "for i in [1,2,3,4,5]:\n",
    "    print (i)"
   ]
  },
  {
   "cell_type": "code",
   "execution_count": 25,
   "metadata": {},
   "outputs": [
    {
     "name": "stdout",
     "output_type": "stream",
     "text": [
      "0\n",
      "1\n",
      "2\n",
      "3\n",
      "4\n",
      "5\n"
     ]
    }
   ],
   "source": [
    "for i in range(6):\n",
    "    print(i)"
   ]
  },
  {
   "cell_type": "code",
   "execution_count": 27,
   "metadata": {},
   "outputs": [
    {
     "name": "stdout",
     "output_type": "stream",
     "text": [
      "E\n",
      "d\n",
      "w\n",
      "i\n",
      "n\n"
     ]
    }
   ],
   "source": [
    "x = 'Edwin'\n",
    "\n",
    "for i in x:\n",
    "    print (i)"
   ]
  },
  {
   "cell_type": "code",
   "execution_count": 2,
   "metadata": {},
   "outputs": [
    {
     "name": "stdout",
     "output_type": "stream",
     "text": [
      "Wendani\n"
     ]
    }
   ],
   "source": [
    "#Learning Dictionary\n",
    "\n",
    "houses = {\"Harry\": \"Morrco\", \"Edwin\": \"Kahawa\"}\n",
    "\n",
    "houses [\"Alex\"] = \"Wendani\"\n",
    "\n",
    "print (houses['Alex'])\n"
   ]
  },
  {
   "cell_type": "code",
   "execution_count": 4,
   "metadata": {},
   "outputs": [
    {
     "name": "stdout",
     "output_type": "stream",
     "text": [
      "The Square of 0 is 0\n",
      "The Square of 1 is 1\n",
      "The Square of 2 is 4\n",
      "The Square of 3 is 9\n",
      "The Square of 4 is 16\n",
      "The Square of 5 is 25\n",
      "The Square of 6 is 36\n",
      "The Square of 7 is 49\n",
      "The Square of 8 is 64\n",
      "The Square of 9 is 81\n"
     ]
    }
   ],
   "source": [
    "#Learning functions\n",
    "def square(x):\n",
    "    return x * x\n",
    "\n",
    "for i in range (10):\n",
    "    print(f\"The Square of {i} is {square(i)}\")"
   ]
  },
  {
   "cell_type": "code",
   "execution_count": null,
   "metadata": {},
   "outputs": [],
   "source": [
    "#creating a class in python\n",
    "\n"
   ]
  }
 ],
 "metadata": {
  "kernelspec": {
   "display_name": "Python 3.11.0 64-bit",
   "language": "python",
   "name": "python3"
  },
  "language_info": {
   "codemirror_mode": {
    "name": "ipython",
    "version": 3
   },
   "file_extension": ".py",
   "mimetype": "text/x-python",
   "name": "python",
   "nbconvert_exporter": "python",
   "pygments_lexer": "ipython3",
   "version": "3.11.0"
  },
  "orig_nbformat": 4,
  "vscode": {
   "interpreter": {
    "hash": "aee8b7b246df8f9039afb4144a1f6fd8d2ca17a180786b69acc140d282b71a49"
   }
  }
 },
 "nbformat": 4,
 "nbformat_minor": 2
}
